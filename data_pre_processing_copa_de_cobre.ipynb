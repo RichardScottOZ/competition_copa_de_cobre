{
 "cells": [
  {
   "cell_type": "markdown",
   "metadata": {},
   "source": [
    "Spatial and spectral resolution are essential aspects of a raster. However, depending on the study area’s size, images with high spectral and spatial resolution can have large sizes that difficult to analyze the data even in high-end computers. In this competition, some of the rasters have around 42GB, which makes the visualization and the analysis of the data difficult. Moreover, the files are .ers files, which sometimes cannot be open by some GIS software. \n",
    "\n",
    "In this post, I will show some workarounds, using the Geopandas and Rasterio Python libraries, that can be done to work with huge rasters without a supercomputer. The idea is to help start analyzing the dataset and give insights about data`s pre-processing for future analysis with unsupervised machine learning algorithms.\n",
    "\n",
    "The post comprises three parts:\n",
    "\n",
    "The first part will show how to use the rasterio library to open the data using small windows and save the windowed data.\n",
    "\n",
    "The second part will show how to generate a regular sampling grid to patch the images in a defined size and stack the bands on those smaller tiles.\n",
    "\n",
    "The third part will show how to sample the images using random points and extract the pixel value of those points. "
   ]
  },
  {
   "cell_type": "markdown",
   "metadata": {},
   "source": [
    " Visualizing the data using rasterio windows on an interactive Jupyter notebook\n",
    "Ipywidgets library allows interactively visualizing data on Jupyter notebooks. Here we will load the peru100.ers image (100 meters resolution and 10 bands) using the rasterio.open() and rasterio.read() methods and create a function that will enable changing the x, y values of the window to load the data interactively. It`s also possible to change the displaying band interactively. The same process can be done with the 10 meters resolution raster. However, the file will have just one band in this case.\n",
    "\n",
    "For that, we will use the following code :    \n",
    "\n",
    "Check if you have all the following libraries installed."
   ]
  },
  {
   "cell_type": "code",
   "execution_count": 1,
   "metadata": {},
   "outputs": [],
   "source": [
    "# Import the libraries\n",
    "import matplotlib.pyplot as plt\n",
    "import numpy as np\n",
    "import rasterio as rio\n",
    "import pandas as pd\n",
    "import geopandas as gpd\n",
    "from scipy import ndimage\n",
    "from shapely.geometry import box\n",
    "from shapely.geometry import Point\n",
    "import random\n",
    "import fiona\n",
    "import rasterio\n",
    "from rasterio.mask import mask\n",
    "from rasterio.features import shapes\n",
    "import os\n",
    "from rasterio import plot\n",
    "from rasterio.windows import Window\n",
    "from ipywidgets import interact, interactive, fixed, interact_manual\n",
    "\n"
   ]
  },
  {
   "cell_type": "code",
   "execution_count": 4,
   "metadata": {},
   "outputs": [
    {
     "data": {
      "application/vnd.jupyter.widget-view+json": {
       "model_id": "9b50b9b742da489ba672bac4ce227737",
       "version_major": 2,
       "version_minor": 0
      },
      "text/plain": [
       "interactive(children=(IntSlider(value=1000, description='x', max=2000), IntSlider(value=1000, description='y',…"
      ]
     },
     "metadata": {},
     "output_type": "display_data"
    },
    {
     "data": {
      "text/plain": [
       "<function __main__.f(x, y, band)>"
      ]
     },
     "execution_count": 4,
     "metadata": {},
     "output_type": "execute_result"
    }
   ],
   "source": [
    "\n",
    "# Define a function to allow changing the x,y and band parameters.\n",
    "def f(x,y,band):\n",
    "    # Open the image as src\n",
    "    with rio.open(\"peru100/peru100.ers\") as src:\n",
    "        # read the image (conversion to array) with the window parameter\n",
    "        # The window parameter accepts the Window class\n",
    "        # the first two numbers are the x and y pixel points\n",
    "        # and the other two numbers are the width (512) and height (256) of the window\n",
    "        w = src.read(band,window=Window(x,y,512,256))\n",
    "        # return the plot of the image with the title showing the band value\n",
    "    return plot.show(w,title=f\"band: {band}\",cmap=\"Greys\")\n",
    "# run the interactive function\n",
    "interact(f, x=(0,2000), y=(0,2000),band=(1,10))\n"
   ]
  },
  {
   "cell_type": "markdown",
   "metadata": {},
   "source": [
    "In the following post by Neil Pendock (https://unearthed.solutions/u/competitions/90/forum#/question/df9de9f4-ebd7-452d-8cc0-113f9eeaf983), he shows some band ratios that may help in the interpretation of the data. So, let`s include some ratios in our interactive plot. "
   ]
  },
  {
   "cell_type": "code",
   "execution_count": 5,
   "metadata": {
    "scrolled": true
   },
   "outputs": [
    {
     "data": {
      "application/vnd.jupyter.widget-view+json": {
       "model_id": "bed10bf49f184bc4890246899147b1e2",
       "version_major": 2,
       "version_minor": 0
      },
      "text/plain": [
       "interactive(children=(IntSlider(value=1000, description='x', max=2000), IntSlider(value=1000, description='y',…"
      ]
     },
     "metadata": {},
     "output_type": "display_data"
    },
    {
     "data": {
      "text/plain": [
       "<function __main__.f(x, y, band1, band2)>"
      ]
     },
     "execution_count": 5,
     "metadata": {},
     "output_type": "execute_result"
    }
   ],
   "source": [
    "# You can also make the band ratios on-the-fly\n",
    "# ignore the 0 division error\n",
    "np.seterr(divide='ignore', invalid='ignore')\n",
    "# define an interactive funtion\n",
    "def f(x,y,band1,band2):\n",
    "    with rio.open(\"peru100/peru100.ers\") as src:\n",
    "        w = src.read(band1,window=Window(x,y,512,256))\n",
    "        z = src.read(band2, window=Window(x,y,512,256))\n",
    "        # Define the ratio - you can change this for different ratios\n",
    "        ratio = w/z\n",
    "    return plot.show(ratio,title=f\"band: {band1}/{band2}\",cmap=\"plasma\")\n",
    "# show the interactive plot \n",
    "interact(f,x=(0,2000),y=(0,2000),band1=(1,10),band2=(1,10))"
   ]
  },
  {
   "cell_type": "markdown",
   "metadata": {},
   "source": [
    "I`ve changed the \"cmap\" attribute to plasma this time. You can trie other color maps following the matplotlib documentation. \n",
    "\n",
    "After exploring the data, if you get interested in a specific area, it`s possible to save the windowed part as a .tif file to open in any GIS software. Just remember to change the metadata of your file accordingly. "
   ]
  },
  {
   "cell_type": "code",
   "execution_count": 6,
   "metadata": {},
   "outputs": [],
   "source": [
    "# open the image\n",
    "with rio.open(\"peru100/peru100.ers\") as src:\n",
    "    # read the fist band using a window with height 256 and width 512 starting at pixel 0,0\n",
    "    w = src.read(1,window=Window(0,0,512,256))\n",
    "    # create a variable to store the metadata\n",
    "    meta = src.meta.copy()\n",
    "    # update the metadata from .ers to tif\n",
    "    meta[\"driver\"] = \"GTIFF\"\n",
    "    # update the number of bands to 1\n",
    "    meta[\"count\"] = 1\n",
    "    # update the height and the width\n",
    "    meta[\"height\"] = 256\n",
    "    meta[\"width\"] = 512\n",
    "    # Create a folder to save the results\n",
    "    savePath =  \"pre_processing/windowed_data\"\n",
    "    if not os.path.exists(savePath):\n",
    "                        os.makedirs(savePath)\n",
    "    # save the .tif image\n",
    "    with rasterio.open(f\"{savePath}/widowed_data.tif\", 'w', **meta) as dst:\n",
    "        dst.write(np.expand_dims(w,0),window=Window(0,0,512,256))"
   ]
  },
  {
   "cell_type": "markdown",
   "metadata": {},
   "source": [
    "    2. Regular sampling and patching the data \n",
    "\n",
    "Before creating the regular sampling grid, we will generate a polygon of the area to select only the study area’s sampling polygons. For that, we will first create a binary image that will have that shape of the area; later, we will vectorize this image using the feature module of the rasterio library and save the vector as a GeoJSON polygon using geopandas library."
   ]
  },
  {
   "cell_type": "markdown",
   "metadata": {},
   "source": [
    "Let`s define the function convert_to_binary() to create binary image for us. This function will change all the pixel values that are greater than one to one and also fill some of the roles (due to the pixels with value 0 present in the raster) inside the study area."
   ]
  },
  {
   "cell_type": "code",
   "execution_count": 10,
   "metadata": {},
   "outputs": [],
   "source": [
    "# First we will create a binary mask of the area that will be used to create a shapefile with the shape of the study area\n",
    "def convert_to_binary(imagePath,savePath, saveName):\n",
    "    \"\"\"\n",
    "    Function to convert a raster into a binary file. \n",
    "    \n",
    "    Parameters:\n",
    "    \n",
    "    imagePath(string): path to the raster\n",
    "    savePath(string): path to save the binary raster\n",
    "    saveName(string): name of the saved file\n",
    "    \"\"\"\n",
    "    # open the image\n",
    "    tifImage = rio.open(imagePath)\n",
    "    # load the metadata\n",
    "    meta = tifImage.meta\n",
    "    # updated the metadata\n",
    "    meta[\"count\"] = 1\n",
    "    meta[\"nodata\"] = None\n",
    "    meta[\"dtype\"] = \"uint8\"\n",
    "    meta[\"driver\"] = \"GTiff\"\n",
    "    # convert data to uint8\n",
    "    tifImage = tifImage.read(1).astype(\"uint8\")\n",
    "    # change all the pixels with value different from 0 to 1\n",
    "    tifImage[tifImage != 0] = 1\n",
    "    # closse the roles inside the image\n",
    "    tifImage = ndimage.binary_closing(tifImage).astype(\"uint8\")\n",
    "    # expand the 0 dim to save the image according to rasterio dimensions\n",
    "    save = np.expand_dims(tifImage,axis = 0)\n",
    "    # create the save folder\n",
    "    if not os.path.exists(savePath):\n",
    "                        os.makedirs(savePath)\n",
    "    # save the binary image\n",
    "    with rio.open(f\"{savePath}/{saveName}.tif\",\"w\",**meta) as dst:\n",
    "        dst.write(save)\n"
   ]
  },
  {
   "cell_type": "code",
   "execution_count": 11,
   "metadata": {},
   "outputs": [],
   "source": [
    "# run the function\n",
    "convert_to_binary(\"peru100/peru100.ers\",\"pre_processing/binary_image\",\n",
    "               \"binary_image_peru_area\")"
   ]
  },
  {
   "cell_type": "markdown",
   "metadata": {},
   "source": [
    "Now we will vectorize the binary image using the vectorize_binary_image() function, the result is a GeoJSON file."
   ]
  },
  {
   "cell_type": "code",
   "execution_count": 15,
   "metadata": {},
   "outputs": [],
   "source": [
    "# Now we will define a function to vectorize the binary image\n",
    "def vectorize_binary_image(imagePath, savePath, saveName, save=True):\n",
    "    \"\"\"\n",
    "    Function to convert the binary raster into a vector file (GeoJSON).\n",
    "    \n",
    "    Parameters:\n",
    "    \n",
    "    imagePath(string): path to the binary raster;\n",
    "    savePath(string): path to save the GeoJSON file;\n",
    "    saveName(string): name of the saved GeoJSON file;\n",
    "    save(bool): True if want to save the file\n",
    "    \n",
    "    return:\n",
    "    save == False => geopandas.GeoDataFrame;\n",
    "    \"\"\"\n",
    "    # load the image\n",
    "    with rio.open(imagePath) as src:\n",
    "        # variable that will contain the generated polygons\n",
    "        results = ({'properties': {'raster_val': v}, 'geometry': s}\n",
    "        for i, (s, v) in enumerate(shapes(src.read(), transform=src.transform)))\n",
    "        # Create a list from the results that looks like a geojson features file\n",
    "        geoms = list(results)\n",
    "        # create a geodataframe from the feature files\n",
    "        gdf  = gpd.GeoDataFrame.from_features(geoms)\n",
    "        # We will use just the raster values that have the value 1\n",
    "        gdf = gdf[gdf[\"raster_val\"] == 1]\n",
    "        if save:\n",
    "            if not os.path.exists(savePath):\n",
    "                        os.makedirs(savePath)\n",
    "                    \n",
    "            gdf.to_file(f\"{savePath}/{saveName}.geosjon\",driver=\"GeoJSON\")\n",
    "        else:\n",
    "            return gdf"
   ]
  },
  {
   "cell_type": "code",
   "execution_count": 16,
   "metadata": {},
   "outputs": [],
   "source": [
    "# run the function\n",
    "vectorize_binary_image(imagePath=\"pre_processing/binary_image/binary_image_peru_area.tif\",savePath=\"pre_processing/vector_area\",\n",
    "                       saveName=\"vector_peru\")\n",
    "                "
   ]
  },
  {
   "cell_type": "markdown",
   "metadata": {},
   "source": [
    "We will create a class (SampleShapefile) with the generate_regular_grid method to generate the regular sampling grid. This method accepts five parameters: the “xsize” and “ysize” parameters corresponds to the size in pixels of the polygons squares that will be generated.  “Overlap” can be used if you want the grid to have some amount of overlap between the polygons (we will use 0 as overlap in this post). “Save” can be set to true if you want to save the resulting geojson in a folder and “savePath” is the folder to save the file."
   ]
  },
  {
   "cell_type": "code",
   "execution_count": 20,
   "metadata": {},
   "outputs": [],
   "source": [
    "# Now we will generate a regular sampling grid over the image to patch the images\n",
    "class SampleShapefile():\n",
    "    \"\"\"\n",
    "    Class SampleShapeFile:\n",
    "    \n",
    "    Attributes:\n",
    "    imagepath (string) = path to the .tif image;\n",
    "    \n",
    "    Methods:\n",
    "    generateShapefileRandomGrid => (geopandas.GeoDataFrame) \n",
    "    generateShapefileRegularGrid =>(geopandas.GeoDataFrame)\n",
    "    \n",
    "    \"\"\"\n",
    "    def __init__(self,pathToImage):\n",
    "        # Define the imagepath variable with the path to the .tif image\n",
    "        self.imagepath = pathToImage\n",
    "        # Define the class atribute the image varible that opens the .tif image\n",
    "        self.image = rio.open(self.imagepath)\n",
    "        # Get the metadata, crs and bounds of the TifImage\n",
    "        with self.image as TifImage:\n",
    "            self.meta = TifImage.meta\n",
    "            print(\"Class Created!\")\n",
    "            self.crs = TifImage.crs\n",
    "            self.xmax = TifImage.bounds[2]\n",
    "            self.xmin = TifImage.bounds[0]\n",
    "            self.ymax = TifImage.bounds[3]\n",
    "            self.ymin = TifImage.bounds[1]\n",
    "    \n",
    "    \n",
    "    def generateShapefileRegularGrid(self,xsize, ysize, overlap=0,save = False, savePath = None):\n",
    "        \"\"\"\n",
    "        # Code addapted from Keras-spatial library - https://pypi.org/project/keras-spatial/ \n",
    "        Generate regular grid over extent.\n",
    "        Args:\n",
    "          xmin (float): extent left boundary\n",
    "          ymin (float): extent bottom boundary\n",
    "          xmax (float): extent right boundary\n",
    "          ymax (float): extent top boundary\n",
    "          xsize (float): patch width\n",
    "          ysize (float): patch height\n",
    "          overlap (float): percentage of patch overlap (optional)\n",
    "          crs (CRS): crs to assign geodataframe \n",
    "        Returns:\n",
    "            if save == false:\n",
    "              \n",
    "            else:\n",
    "                geopandas.GeoDataFrame:\n",
    "        \"\"\"\n",
    "        #Define the pixel size and multiply by the xsize to get xsize in number of pixels\n",
    "        xsize = (self.meta[\"transform\"][0]*(xsize-1)) \n",
    "        ysize = ((-self.meta[\"transform\"][4])*(ysize-0.5))\n",
    "        \n",
    "        \n",
    "    \n",
    "\n",
    "        x = np.linspace(self.xmin, self.xmax-xsize, num=int((self.xmax-self.xmin)//(xsize-xsize*overlap)))\n",
    "        y = np.linspace(self.ymin, self.ymax-ysize, num=int((self.ymax-self.ymin)//(ysize-ysize*overlap)))\n",
    "        X,Y = np.meshgrid(x, y)\n",
    "        polys = [box(x, y, x+xsize, y+ysize) for x,y in np.nditer([X,Y])]\n",
    "\n",
    "        gdf = gpd.GeoDataFrame({'geometry':polys})\n",
    "        gdf.crs = self.crs\n",
    "        if save == False:\n",
    "            return gdf\n",
    "        else:\n",
    "            if not os.path.exists(savePath):\n",
    "                        os.makedirs(savePath)\n",
    "            gdf.to_file(f\"{savePath}/regular_grid.geojson\", driver=\"GeoJSON\")\n",
    "    "
   ]
  },
  {
   "cell_type": "markdown",
   "metadata": {},
   "source": [
    "We will first create the instance of the class and save it in the variable “sample”. Note that you need to pass the image path as the parameter. We will use the sentinel_2.ers file."
   ]
  },
  {
   "cell_type": "code",
   "execution_count": 21,
   "metadata": {
    "scrolled": true
   },
   "outputs": [
    {
     "name": "stdout",
     "output_type": "stream",
     "text": [
      "Class Created!\n"
     ]
    }
   ],
   "source": [
    "# Create an instance of the SampleShapefile class\n",
    "sample = SampleShapefile(\"mosaic2/sentinel_2.ers\")"
   ]
  },
  {
   "cell_type": "markdown",
   "metadata": {},
   "source": [
    "The variable “shape” will receive the sampling shapefiles returned by the generate_regular_grid() method. We will generate 4000x4000 pixels grid. As we can see, the grid was created over the raster area; thus, there are a lot of areas with only 0-pixel values that we don`t want to consider. That`s why we generated the study area polygon; now, we can use a spatial join operation to select only the polygons that intersect Peru`s region. "
   ]
  },
  {
   "cell_type": "code",
   "execution_count": 22,
   "metadata": {},
   "outputs": [],
   "source": [
    "# Use the generate_regular_grid method to generate a regular grid with the tiles with 512x512 pixels\n",
    "shape = sample.generateShapefileRegularGrid(4000,4000,0)"
   ]
  },
  {
   "cell_type": "code",
   "execution_count": 23,
   "metadata": {},
   "outputs": [],
   "source": [
    "# load the study area vector\n",
    "study_area = gpd.read_file(\"pre_processing/vector_area/vector_peru.geosjon\")\n",
    "# spatial join to select only the shapes that intersect the study area\n",
    "spatial_join = gpd.sjoin(shape,study_area)\n",
    "\n",
    "# save sampling GeoJSON\n",
    "savePath = \"pre_processing/sampling\"\n",
    "if not os.path.exists(savePath):\n",
    "                        os.makedirs(savePath)\n",
    "spatial_join.to_file(f\"{savePath}/sampling_area.geosjon\", driver = \"GeoJSON\")"
   ]
  },
  {
   "cell_type": "markdown",
   "metadata": {},
   "source": [
    "Great, now we have only the polygons intersects the study area (figure below). Therefore, let`s define a function to patch the images based on those polygons. "
   ]
  },
  {
   "cell_type": "markdown",
   "metadata": {},
   "source": [
    "The patchImage will use the polygons to crop the image. There are six parameters in this function which are described in the comments below the function. It will take some time to patch the image. Thus, I will only show here the process of patching the first three (RGB) bands."
   ]
  },
  {
   "cell_type": "code",
   "execution_count": 24,
   "metadata": {},
   "outputs": [],
   "source": [
    "def patchImage(shapefilePath, imagePath,savePath, fileName, save = False):\n",
    "    \"\"\"\n",
    "    Function that use polygons to patch the image.\n",
    "    \n",
    "    Parameters:\n",
    "    \n",
    "    shapefilePath (string): path to the .shp or geojson file with the polygons that will patch the image.\n",
    "    \n",
    "    imagePath (string): path to the image.\n",
    "    \n",
    "    fileName (string): name of the output file.\n",
    "    \n",
    "    save(bool): True if you want to save the data\n",
    "    \n",
    "    Return (if save = false)\n",
    "    \n",
    "    (np.array) image\n",
    "    \n",
    "    \"\"\"\n",
    "    images = []\n",
    "    non_32 = []\n",
    "    #Load the shapefile\n",
    "    with fiona.open(shapefilePath, \"r\") as shapefile:\n",
    "        #Generate a list with the geometry of the shapes\n",
    "        shapes = [feature[\"geometry\"] for feature in shapefile]\n",
    "        print(f\"There are {len(shapes)} polygons to patch the image.\")\n",
    "    with rasterio.open(imagePath) as src:\n",
    "        for i in range(len(shapes)):\n",
    "            #patch the image based on the shapefile\n",
    "            out_image, out_transform = rasterio.mask.mask(src, [shapes[i]], crop=True, filled=False)\n",
    "            #Get the metadata of the crop\n",
    "            out_meta = src.meta\n",
    "            if save == True:\n",
    "            # if want to save the tiles\n",
    "                out_meta.update({\"driver\": \"GTiff\", \"height\": out_image.shape[1], \"width\": out_image.shape[2], \"transform\": out_transform})\n",
    "                with rasterio.open(f\"{savePath}/{fileName}_{str(i)}.tif\", \"w\", **out_meta) as dest:\n",
    "                    dest.write(out_image)\n",
    "                    print(f\"{fileName}_{str(i)}.tif Saved!\")\n",
    "            \n",
    "    print(f\"Done! Images saved on {savePath}\")\n",
    "    if save == False:\n",
    "        image = np.array(images, dtype = \"float32\")\n",
    "        return image"
   ]
  },
  {
   "cell_type": "code",
   "execution_count": 25,
   "metadata": {
    "scrolled": true
   },
   "outputs": [
    {
     "name": "stdout",
     "output_type": "stream",
     "text": [
      "There are 515 polygons to patch the image.\n"
     ]
    },
    {
     "ename": "KeyboardInterrupt",
     "evalue": "",
     "output_type": "error",
     "traceback": [
      "\u001b[0;31m---------------------------------------------------------------------------\u001b[0m",
      "\u001b[0;31mKeyboardInterrupt\u001b[0m                         Traceback (most recent call last)",
      "\u001b[0;32m<ipython-input-25-de299ab5d8bf>\u001b[0m in \u001b[0;36m<module>\u001b[0;34m\u001b[0m\n\u001b[1;32m     10\u001b[0m                         \u001b[0mos\u001b[0m\u001b[0;34m.\u001b[0m\u001b[0mmakedirs\u001b[0m\u001b[0;34m(\u001b[0m\u001b[0msavePath\u001b[0m\u001b[0;34m)\u001b[0m\u001b[0;34m\u001b[0m\u001b[0m\n\u001b[1;32m     11\u001b[0m     \u001b[0;31m# patch the images\u001b[0m\u001b[0;34m\u001b[0m\u001b[0;34m\u001b[0m\u001b[0m\n\u001b[0;32m---> 12\u001b[0;31m     \u001b[0mpatchImage\u001b[0m\u001b[0;34m(\u001b[0m\u001b[0mshapefilePath\u001b[0m\u001b[0;34m=\u001b[0m\u001b[0;34m\"pre_processing/sampling/sampling_area.geosjon\"\u001b[0m\u001b[0;34m,\u001b[0m\u001b[0mimagePath\u001b[0m\u001b[0;34m=\u001b[0m\u001b[0mpath\u001b[0m\u001b[0;34m,\u001b[0m\u001b[0msavePath\u001b[0m\u001b[0;34m=\u001b[0m\u001b[0msavePath\u001b[0m\u001b[0;34m,\u001b[0m\u001b[0mfileName\u001b[0m\u001b[0;34m=\u001b[0m\u001b[0;34m\"tile\"\u001b[0m\u001b[0;34m,\u001b[0m \u001b[0msave\u001b[0m\u001b[0;34m=\u001b[0m\u001b[0;32mTrue\u001b[0m\u001b[0;34m)\u001b[0m\u001b[0;34m\u001b[0m\u001b[0m\n\u001b[0m",
      "\u001b[0;32m<ipython-input-24-ef5506a76159>\u001b[0m in \u001b[0;36mpatchImage\u001b[0;34m(shapefilePath, imagePath, savePath, fileName, save)\u001b[0m\n\u001b[1;32m     28\u001b[0m         \u001b[0;32mfor\u001b[0m \u001b[0mi\u001b[0m \u001b[0;32min\u001b[0m \u001b[0mrange\u001b[0m\u001b[0;34m(\u001b[0m\u001b[0mlen\u001b[0m\u001b[0;34m(\u001b[0m\u001b[0mshapes\u001b[0m\u001b[0;34m)\u001b[0m\u001b[0;34m)\u001b[0m\u001b[0;34m:\u001b[0m\u001b[0;34m\u001b[0m\u001b[0m\n\u001b[1;32m     29\u001b[0m             \u001b[0;31m#patch the image based on the shapefile\u001b[0m\u001b[0;34m\u001b[0m\u001b[0;34m\u001b[0m\u001b[0m\n\u001b[0;32m---> 30\u001b[0;31m             \u001b[0mout_image\u001b[0m\u001b[0;34m,\u001b[0m \u001b[0mout_transform\u001b[0m \u001b[0;34m=\u001b[0m \u001b[0mrasterio\u001b[0m\u001b[0;34m.\u001b[0m\u001b[0mmask\u001b[0m\u001b[0;34m.\u001b[0m\u001b[0mmask\u001b[0m\u001b[0;34m(\u001b[0m\u001b[0msrc\u001b[0m\u001b[0;34m,\u001b[0m \u001b[0;34m[\u001b[0m\u001b[0mshapes\u001b[0m\u001b[0;34m[\u001b[0m\u001b[0mi\u001b[0m\u001b[0;34m]\u001b[0m\u001b[0;34m]\u001b[0m\u001b[0;34m,\u001b[0m \u001b[0mcrop\u001b[0m\u001b[0;34m=\u001b[0m\u001b[0;32mTrue\u001b[0m\u001b[0;34m,\u001b[0m \u001b[0mfilled\u001b[0m\u001b[0;34m=\u001b[0m\u001b[0;32mFalse\u001b[0m\u001b[0;34m)\u001b[0m\u001b[0;34m\u001b[0m\u001b[0m\n\u001b[0m\u001b[1;32m     31\u001b[0m             \u001b[0;31m#Get the metadata of the crop\u001b[0m\u001b[0;34m\u001b[0m\u001b[0;34m\u001b[0m\u001b[0m\n\u001b[1;32m     32\u001b[0m             \u001b[0mout_meta\u001b[0m \u001b[0;34m=\u001b[0m \u001b[0msrc\u001b[0m\u001b[0;34m.\u001b[0m\u001b[0mmeta\u001b[0m\u001b[0;34m\u001b[0m\u001b[0m\n",
      "\u001b[0;32m~/.conda/envs/crop_raster/lib/python3.7/site-packages/rasterio/mask.py\u001b[0m in \u001b[0;36mmask\u001b[0;34m(dataset, shapes, all_touched, invert, nodata, filled, crop, pad, indexes)\u001b[0m\n\u001b[1;32m    189\u001b[0m \u001b[0;34m\u001b[0m\u001b[0m\n\u001b[1;32m    190\u001b[0m     out_image = dataset.read(\n\u001b[0;32m--> 191\u001b[0;31m         window=window, out_shape=out_shape, masked=True, indexes=indexes)\n\u001b[0m\u001b[1;32m    192\u001b[0m \u001b[0;34m\u001b[0m\u001b[0m\n\u001b[1;32m    193\u001b[0m     \u001b[0mout_image\u001b[0m\u001b[0;34m.\u001b[0m\u001b[0mmask\u001b[0m \u001b[0;34m=\u001b[0m \u001b[0mout_image\u001b[0m\u001b[0;34m.\u001b[0m\u001b[0mmask\u001b[0m \u001b[0;34m|\u001b[0m \u001b[0mshape_mask\u001b[0m\u001b[0;34m\u001b[0m\u001b[0m\n",
      "\u001b[0;32mrasterio/_io.pyx\u001b[0m in \u001b[0;36mrasterio._io.DatasetReaderBase.read\u001b[0;34m()\u001b[0m\n",
      "\u001b[0;32m~/.conda/envs/crop_raster/lib/python3.7/site-packages/numpy/ma/core.py\u001b[0m in \u001b[0;36marray\u001b[0;34m(data, dtype, copy, order, mask, fill_value, keep_mask, hard_mask, shrink, subok, ndmin)\u001b[0m\n\u001b[1;32m   6362\u001b[0m \u001b[0;34m\u001b[0m\u001b[0m\n\u001b[1;32m   6363\u001b[0m \u001b[0;34m\u001b[0m\u001b[0m\n\u001b[0;32m-> 6364\u001b[0;31m def array(data, dtype=None, copy=False, order=None,\n\u001b[0m\u001b[1;32m   6365\u001b[0m           \u001b[0mmask\u001b[0m\u001b[0;34m=\u001b[0m\u001b[0mnomask\u001b[0m\u001b[0;34m,\u001b[0m \u001b[0mfill_value\u001b[0m\u001b[0;34m=\u001b[0m\u001b[0;32mNone\u001b[0m\u001b[0;34m,\u001b[0m \u001b[0mkeep_mask\u001b[0m\u001b[0;34m=\u001b[0m\u001b[0;32mTrue\u001b[0m\u001b[0;34m,\u001b[0m\u001b[0;34m\u001b[0m\u001b[0m\n\u001b[1;32m   6366\u001b[0m           hard_mask=False, shrink=True, subok=True, ndmin=0):\n",
      "\u001b[0;31mKeyboardInterrupt\u001b[0m: "
     ]
    }
   ],
   "source": [
    "# list of the image paths - add the paths to all bands here to patch all rasters.\n",
    "paths = [\"mosaic2/sentinel_2.ers\",\"mosaic3/sentinel_3.ers\",\n",
    "        \"mosaic4/sentinel_4.ers\"]\n",
    "# loo over all image paths\n",
    "for i, path in enumerate(paths):\n",
    "    # get the band to create a folder with the band name\n",
    "    band = path.split(\"_\")[-1].split(\".\")[-2]\n",
    "    savePath = f\"pre_processing/patch_images/band_{band}\"\n",
    "    if not os.path.exists(savePath):\n",
    "                        os.makedirs(savePath)\n",
    "    # patch the images\n",
    "    patchImage(shapefilePath=\"pre_processing/sampling/sampling_area.geosjon\",imagePath=path,savePath=savePath,fileName=\"tile\", save=True)"
   ]
  },
  {
   "cell_type": "markdown",
   "metadata": {},
   "source": [
    "After patching the images, we will stack the three bands to generate an RGB image. Here I will show the process for only one of the tiles (tile_2.tif), but you can easily implement a loop to do it for all the tiles."
   ]
  },
  {
   "cell_type": "code",
   "execution_count": 134,
   "metadata": {},
   "outputs": [],
   "source": [
    "# After patching the image of each band it's possible to use rasterio to stack the bands, here I will show \n",
    "# an example with bands 2 (blue) and band 3 (green) and band 4 (red), the same process can be repeated for the other\n",
    "# bands \n",
    "\n",
    "# load each band\n",
    "band2 = rio.open(f\"pre_processing/patch_images/band_2/tile_2.tif\")\n",
    "band3 = rio.open(f\"pre_processing/patch_images/band_3/tile_2.tif\")\n",
    "band4 = rio.open(f\"pre_processing/patch_images/band_4/tile_2.tif\")\n",
    "\n",
    "# update the metadata to include 3 bands\n",
    "band2_geo = band2.profile\n",
    "band2_geo.update({\"count\": 3})\n",
    "\n",
    "# create the folder to save the files\n",
    "savePath = \"pre_processing/patch_images/rgb\"\n",
    "if not os.path.exists(savePath):\n",
    "                        os.makedirs(savePath)\n",
    "\n",
    "with rasterio.open(f'{savePath}/rgb.tif', 'w', **band2_geo) as dest:\n",
    "# I rearanged the band order writting to 2→3→4 instead of 4→3→2\n",
    "    dest.write(band2.read(1),1)\n",
    "    dest.write(band3.read(1),2)\n",
    "    dest.write(band4.read(1),3)"
   ]
  },
  {
   "cell_type": "markdown",
   "metadata": {},
   "source": [
    "Now if you load the rgb.tif image in QGIS we can see that we have a true-color image of the tile_2."
   ]
  },
  {
   "cell_type": "markdown",
   "metadata": {},
   "source": [
    "  3. Generate random sampling points over the study area and extract the pixel value\n",
    "\n",
    "If you think that patching or windowing the images takes too long, there is also another way to work with the dataset: generating random sampling points over the study area and extracting the pixel value of those points. For that, we will use the vector that was generated in the last step and generate the points inside the polygon. Here we will generate only 1000 points to show how it works. Some of the points will be created outside the desired area, that`s why we use the spatial join operation again. "
   ]
  },
  {
   "cell_type": "code",
   "execution_count": 30,
   "metadata": {},
   "outputs": [],
   "source": [
    "import geopandas as gpd\n",
    "import numpy as np\n",
    "# load the study area vector\n",
    "area = gpd.read_file(\"pre_processing/vector_area/vector_peru.geosjon\")\n",
    "# get the shape bounds\n",
    "x_min, y_min, x_max, y_max = area.total_bounds\n",
    "# set sample size\n",
    "n = 1000\n",
    "# generate random data within the bounds\n",
    "x = np.random.uniform(x_min, x_max, n)\n",
    "y = np.random.uniform(y_min, y_max, n)\n",
    "# convert them to a points GeoSeries\n",
    "gdf_points = gpd.GeoDataFrame(geometry=gpd.points_from_xy(x, y))\n",
    "# only keep those points within polygons\n",
    "gdf_points = gpd.sjoin(gdf_points,area,op=\"within\")\n",
    "\n",
    "# create the folder to save the file\n",
    "savePath = \"pre_processing/sampling_points\"\n",
    "if not os.path.exists(savePath):\n",
    "                        os.makedirs(savePath)\n",
    "# save the points to geojson file\n",
    "gdf_points.to_file(f\"{savePath}/sampling_points_{n}.geojson\", driver=\"GeoJSON\")"
   ]
  },
  {
   "cell_type": "code",
   "execution_count": 31,
   "metadata": {},
   "outputs": [
    {
     "data": {
      "text/plain": [
       "<matplotlib.axes._subplots.AxesSubplot at 0x11d335ac8>"
      ]
     },
     "execution_count": 31,
     "metadata": {},
     "output_type": "execute_result"
    },
    {
     "data": {
      "image/png": "[encoded data removed]",
      "text/plain": [
       "<Figure size 432x288 with 1 Axes>"
      ]
     },
     "metadata": {
      "needs_background": "light"
     },
     "output_type": "display_data"
    }
   ],
   "source": [
    "gdf_points.plot()"
   ]
  },
  {
   "cell_type": "markdown",
   "metadata": {},
   "source": [
    "To extract the values of the pixel on those points we will read the data using that windows (similar to the beginning of this post) but we will use the sampling points to create those windows, and also save the values on a dictionary that can be converted to a pandas DataFrame. \n",
    "\n",
    "First, we will create the function to create the tiny window around the sampling point."
   ]
  },
  {
   "cell_type": "code",
   "execution_count": 140,
   "metadata": {},
   "outputs": [],
   "source": [
    "# Create a tiny window from a point\n",
    "def tiny_window(dataset, x, y):\n",
    "    \"\"\"\n",
    "    Create a tiny window around the sampling point\n",
    "    \n",
    "    dataset(rasterio.io.DatasetReader) : raster that will be loaded using a window.\n",
    "    x (float): coord x\n",
    "    y (float): coord y\n",
    "    \"\"\"\n",
    "    # get the row and column of the point on the image\n",
    "    r, c = dataset.index(x, y)\n",
    "    return ((r, r+1), (c, c+1))\n"
   ]
  },
  {
   "cell_type": "markdown",
   "metadata": {},
   "source": [
    "Then we will use rasterio to open the rasters and extract the pixel value. Here we will use only the first three bands, but it`s simple to change the code to use all the bands available."
   ]
  },
  {
   "cell_type": "code",
   "execution_count": 143,
   "metadata": {},
   "outputs": [],
   "source": [
    "# load the sampling points\n",
    "df = gpd.read_file(\"pre_processing/sampling_points/sampling_points_1000.geojson\")\n",
    "# dictinary that will contain the pixel value of the points\n",
    "# here i will use just 3 bands (2,3,4). Add more key if you want to sample all the bands\n",
    "point_value = {\"band_2\":[],\"band_3\":[],\"band_4\":[]}\n",
    "# path to the images. Add more path if you want to sample all the rasters\n",
    "paths = [\"/Volumes/SEAGATE/competition/peru/dados/mosaic2/sentinel_2.ers\",\"/Volumes/SEAGATE/competition/peru/dados/mosaic3/sentinel_3.ers\",\n",
    "        \"/Volumes/SEAGATE/competition/peru/dados/mosaic4/sentinel_4.ers\"]\n",
    "# loop over all paths\n",
    "for path in paths:\n",
    "    # open the image\n",
    "    with rio.open(path) as raster:\n",
    "        # Get pixel coordinates from map coordinates\n",
    "        for point in df[\"geometry\"]:\n",
    "            x = point.xy[0][0]\n",
    "            y = point.xy[1][0]\n",
    "            px, py = raster.index(x,y)\n",
    "            #read the data using the tiny_window function\n",
    "            data = raster.read(window=tiny_window(raster, x, y))\n",
    "            # get the band from the path name\n",
    "            band = path.split(\"_\")[-1].split(\".\")[-2]\n",
    "            # add the value in the dictionary\n",
    "            point_value[f'band_{band}'].append(data[:,0,0][0])"
   ]
  },
  {
   "cell_type": "markdown",
   "metadata": {},
   "source": [
    "Now we just need to convert the dictionary into a pandas Dataframe and we will have a table with the pixel value of the sampling points."
   ]
  },
  {
   "cell_type": "code",
   "execution_count": 210,
   "metadata": {},
   "outputs": [
    {
     "data": {
      "text/html": [
       "<div>\n",
       "<style scoped>\n",
       "    .dataframe tbody tr th:only-of-type {\n",
       "        vertical-align: middle;\n",
       "    }\n",
       "\n",
       "    .dataframe tbody tr th {\n",
       "        vertical-align: top;\n",
       "    }\n",
       "\n",
       "    .dataframe thead th {\n",
       "        text-align: right;\n",
       "    }\n",
       "</style>\n",
       "<table border=\"1\" class=\"dataframe\">\n",
       "  <thead>\n",
       "    <tr style=\"text-align: right;\">\n",
       "      <th></th>\n",
       "      <th>band_2</th>\n",
       "      <th>band_3</th>\n",
       "      <th>band_4</th>\n",
       "    </tr>\n",
       "  </thead>\n",
       "  <tbody>\n",
       "    <tr>\n",
       "      <th>0</th>\n",
       "      <td>1720</td>\n",
       "      <td>2210</td>\n",
       "      <td>2620</td>\n",
       "    </tr>\n",
       "    <tr>\n",
       "      <th>1</th>\n",
       "      <td>604</td>\n",
       "      <td>932</td>\n",
       "      <td>1222</td>\n",
       "    </tr>\n",
       "    <tr>\n",
       "      <th>2</th>\n",
       "      <td>763</td>\n",
       "      <td>1002</td>\n",
       "      <td>1262</td>\n",
       "    </tr>\n",
       "    <tr>\n",
       "      <th>3</th>\n",
       "      <td>1688</td>\n",
       "      <td>2098</td>\n",
       "      <td>2548</td>\n",
       "    </tr>\n",
       "    <tr>\n",
       "      <th>4</th>\n",
       "      <td>766</td>\n",
       "      <td>978</td>\n",
       "      <td>655</td>\n",
       "    </tr>\n",
       "    <tr>\n",
       "      <th>...</th>\n",
       "      <td>...</td>\n",
       "      <td>...</td>\n",
       "      <td>...</td>\n",
       "    </tr>\n",
       "    <tr>\n",
       "      <th>291</th>\n",
       "      <td>467</td>\n",
       "      <td>709</td>\n",
       "      <td>855</td>\n",
       "    </tr>\n",
       "    <tr>\n",
       "      <th>292</th>\n",
       "      <td>633</td>\n",
       "      <td>979</td>\n",
       "      <td>1294</td>\n",
       "    </tr>\n",
       "    <tr>\n",
       "      <th>293</th>\n",
       "      <td>412</td>\n",
       "      <td>655</td>\n",
       "      <td>902</td>\n",
       "    </tr>\n",
       "    <tr>\n",
       "      <th>294</th>\n",
       "      <td>739</td>\n",
       "      <td>1086</td>\n",
       "      <td>1512</td>\n",
       "    </tr>\n",
       "    <tr>\n",
       "      <th>295</th>\n",
       "      <td>564</td>\n",
       "      <td>863</td>\n",
       "      <td>1198</td>\n",
       "    </tr>\n",
       "  </tbody>\n",
       "</table>\n",
       "<p>296 rows × 3 columns</p>\n",
       "</div>"
      ],
      "text/plain": [
       "     band_2  band_3  band_4\n",
       "0      1720    2210    2620\n",
       "1       604     932    1222\n",
       "2       763    1002    1262\n",
       "3      1688    2098    2548\n",
       "4       766     978     655\n",
       "..      ...     ...     ...\n",
       "291     467     709     855\n",
       "292     633     979    1294\n",
       "293     412     655     902\n",
       "294     739    1086    1512\n",
       "295     564     863    1198\n",
       "\n",
       "[296 rows x 3 columns]"
      ]
     },
     "execution_count": 210,
     "metadata": {},
     "output_type": "execute_result"
    }
   ],
   "source": [
    "import pandas as pd\n",
    "\n",
    "df = pd.DataFrame(point_values)"
   ]
  },
  {
   "cell_type": "markdown",
   "metadata": {},
   "source": [
    "This result can be used for unsupervised machine learning analysis such as PCA, clustering, SOM.\n",
    "\n",
    "This post shows how I am working with the data and how to address huge datasets to work without a supercomputer. As a geologist working with huge datasets is a common task, however, sometimes we need to avoid large files to allow faster processing. This was the main goal of this workflow.    "
   ]
  },
  {
   "cell_type": "code",
   "execution_count": null,
   "metadata": {},
   "outputs": [],
   "source": []
  }
 ],
 "metadata": {
  "kernelspec": {
   "display_name": "Python 3",
   "language": "python",
   "name": "python3"
  },
  "language_info": {
   "codemirror_mode": {
    "name": "ipython",
    "version": 3
   },
   "file_extension": ".py",
   "mimetype": "text/x-python",
   "name": "python",
   "nbconvert_exporter": "python",
   "pygments_lexer": "ipython3",
   "version": "3.7.0"
  }
 },
 "nbformat": 4,
 "nbformat_minor": 2
}
